{
 "cells": [
  {
   "cell_type": "markdown",
   "metadata": {
    "id": "XBfSbTeDk7SZ"
   },
   "source": [
    "## Практика. Исследование параболы с помощью SymPy\n",
    "\n",
    "\n",
    "Итак, мы познакомились с несколькими инструментами для исследования функций. Для закрепления материала мы подготовили несколько практических заданий. Практика будет состоять из двух частей. В первой части нужно понять по эскизу графика функции, какие у нее знаки коэффициентов. <br><br>\n",
    "Во второй части практики исследуйте все типы элементарных функций, по примеру того, как я исследовал параболу в этом уроке. "
   ]
  },
  {
   "cell_type": "markdown",
   "metadata": {
    "id": "5ZLPTbegmvMB"
   },
   "source": [
    "### Первая часть\n",
    "![practice_les-2_pos_1-2.png](https://sun9-58.userapi.com/c858228/v858228580/11d5ae/MzvyoLZ5ttY.jpg)![practice_les-2_pos_2-2.png](https://sun9-58.userapi.com/c858228/v858228580/11d5bc/yhr6c1d3LoI.jpg)<br>\n",
    "\n",
    "![practice_les-2_pos_1-1.png](https://sun9-52.userapi.com/c858228/v858228580/11d5a7/WY1EKnfr_Ro.jpg)![practice_les-2_pos_2-1.png](https://sun9-43.userapi.com/c858228/v858228580/11d5b5/cRGlFAOaPeA.jpg)<br>"
   ]
  },
  {
   "cell_type": "code",
   "execution_count": 15,
   "metadata": {},
   "outputs": [],
   "source": [
    "from sympy import *\n",
    "from sympy.plotting import plot\n",
    "from sympy.solvers.inequalities import solve_univariate_inequality"
   ]
  },
  {
   "cell_type": "code",
   "execution_count": 16,
   "metadata": {},
   "outputs": [],
   "source": [
    "init_printing(use_unicode=False, wrap_line=False, no_global=True)"
   ]
  },
  {
   "cell_type": "code",
   "execution_count": 17,
   "metadata": {},
   "outputs": [],
   "source": [
    "x = Symbol(\"x\")\n",
    "f = 100*ln(x)\n",
    "print(plot(f))"
   ]
  },
  {
   "cell_type": "markdown",
   "metadata": {
    "id": "kqo0XVTqpE1Y"
   },
   "source": [
    "### Вторая часть\n",
    "\n",
    "\n",
    "Импортируйте библиотеку и модуль `plot`, вызовите команду для красивой отрисовки формул. Постройте график каждой функции, проверьте, является ли она четной, нечетной или ни той, ни другой по виду графика и с помощью подстановки значений. Проверьте свойства коэффициентов, которые были упомянуты в уроке про элементарные функции, покрутите линейную функцию, варьируя угловой коэффициент, и подвигайте графики линейной функции и параболу вверх и вниз, меняя свободный член. Графики показательной функции и корня также можно двигать вверх и вниз, добавляя к ним положительные и отрицательные числа, например $f(x)=e^x+1$ –  это график функции $f(x)=e^x$, сдвинутый вверх на единицу. <br>\n",
    "<br>\n",
    "Для параболы проверьте свойство коэффициента при икс в квадрате. Будьте внимательны с промежутками для переменной (областью определения), не сломайте `symPy` :)\n"
   ]
  },
  {
   "cell_type": "markdown",
   "metadata": {
    "id": "SdaRZOdcpuXd"
   },
   "source": [
    "**(1)** В качестве примера показательной функции используйте экспоненциальную функцию $e^x$. В `symPy` ее можно объявить так:"
   ]
  },
  {
   "cell_type": "code",
   "execution_count": 5,
   "metadata": {
    "id": "7r4i3FmLpt0s"
   },
   "outputs": [],
   "source": [
    "f = exp(x)\n",
    "\n",
    "plot(f, (x, 1, 30))\n",
    "solve_univariate_inequality(f>0, x)"
   ]
  },
  {
   "cell_type": "markdown",
   "metadata": {
    "id": "J7Nzu-X0qPve"
   },
   "source": [
    "**(2)** В качестве примера логарифмической функции используйте натуральный логарифм. В `symPy` его можно объявить так:"
   ]
  },
  {
   "cell_type": "code",
   "execution_count": 6,
   "metadata": {
    "id": "pvzIk4xSqVta"
   },
   "outputs": [],
   "source": [
    "f = ln(x)\n",
    "\n",
    "f2 = ln(x) \n",
    "solve(f)\n",
    "plot(f, (x, 1, 100))\n",
    "plot(f2, (x, 1, 100))\n",
    "solve_univariate_inequality(f<0, x)"
   ]
  },
  {
   "cell_type": "markdown",
   "metadata": {
    "id": "cIpbJ597qa7z"
   },
   "source": [
    "**(3)** В качестве примера одной квадратичной функции используйте следующую функцию:   $f(x)=2x^2+3x-5$."
   ]
  },
  {
   "cell_type": "markdown",
   "metadata": {
    "id": "gRdTqWbJqmEK"
   },
   "source": [
    "**(4)** В качестве примера другой квадратичной функции используйте следующую функцию:   $f(x)=5x^2-8$."
   ]
  },
  {
   "cell_type": "markdown",
   "metadata": {
    "id": "e0xydv-Hqte7"
   },
   "source": [
    "**(5)** В качестве функции корня используйте просто корень: $f(x)=\\sqrt(x)$."
   ]
  },
  {
   "cell_type": "code",
   "execution_count": 7,
   "metadata": {
    "id": "996Gvn0Wuer7"
   },
   "outputs": [],
   "source": [
    "f = 2*x**2+3*x\n",
    "print(f.subs(x, 100))\n",
    "print(f.subs(x, -100))\n",
    "plot(f)\n",
    "solve_univariate_inequality(f<0, x)\n"
   ]
  },
  {
   "cell_type": "code",
   "execution_count": 8,
   "metadata": {},
   "outputs": [],
   "source": [
    "f = 5*x**2-8\n",
    "print(f.subs(x, 100))\n",
    "print(f.subs(x, -100))\n",
    "plot(f)\n",
    "solve_univariate_inequality(f<0, x)"
   ]
  },
  {
   "cell_type": "code",
   "execution_count": 9,
   "metadata": {},
   "outputs": [],
   "source": [
    "f = sqrt(x) + 20\n",
    "print(f.subs(x, 12))\n",
    "\n",
    "plot(f, (x, 1, 100))\n",
    "solve(f)"
   ]
  }
 ],
 "metadata": {
  "colab": {
   "provenance": []
  },
  "kernelspec": {
   "display_name": "Python 3 (ipykernel)",
   "language": "python",
   "name": "python3"
  },
  "language_info": {
   "codemirror_mode": {
    "name": "ipython",
    "version": 3
   },
   "file_extension": ".py",
   "mimetype": "text/x-python",
   "name": "python",
   "nbconvert_exporter": "python",
   "pygments_lexer": "ipython3",
   "version": "3.10.6"
  }
 },
 "nbformat": 4,
 "nbformat_minor": 1
}
