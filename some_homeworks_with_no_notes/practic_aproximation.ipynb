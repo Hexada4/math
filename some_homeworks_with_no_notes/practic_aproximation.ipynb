{
 "cells": [
  {
   "cell_type": "code",
   "execution_count": 47,
   "id": "65f4badb",
   "metadata": {},
   "outputs": [],
   "source": [
    "from sympy import *\n",
    "from sympy.plotting import plot\n",
    "init_printing(use_unicode=False, wrap_line=False, no_global=True)"
   ]
  },
  {
   "cell_type": "code",
   "execution_count": 52,
   "id": "c592737e",
   "metadata": {},
   "outputs": [],
   "source": [
    "import matplotlib.pyplot as plt\n",
    "import numpy as np"
   ]
  },
  {
   "cell_type": "code",
   "execution_count": 3,
   "id": "29f1f374",
   "metadata": {},
   "outputs": [],
   "source": [
    "a0, a1, a2, a3, a4, a5 = symbols('a0, a1, a2, a3, a4, a5')\n",
    "x1, y1 = -4, -4268\n",
    "x2, y2 = -3, -1227\n",
    "x3, y3 = -1, -17\n",
    "x4, y4 = 1, 17\n",
    "x5, y5 = 3, 1227\n",
    "x6, y6 = 4, 4268"
   ]
  },
  {
   "cell_type": "code",
   "execution_count": 13,
   "id": "d56e223e",
   "metadata": {},
   "outputs": [],
   "source": [
    "first = a5*x1**5+a4*x1**4+a3*x1**3+a2*x1**2+a1*x1 + a0 - y1\n",
    "second = a5*x2**5+a4*x2**4+a3*x2**3+a2*x2**2+a1*x2 + a0 - y2\n",
    "third = a5*x3**5+a4*x3*4+a3*x3**3+a2*x3**2+a1*x3 + a0 - y3\n",
    "fourth = a5*x4**5+a4*x4**4+a3*x4**3+a2*x4**2+a1*x4 + a0 - y4\n",
    "fifth = a5*x5**5+a4*x5**4+a3*x5**3+a2*x5**2+a1*x5 + a0 - y5\n",
    "sixth = a5*x6**5+a4*x6**4+a3*x6**3+a2*x6**2+a1*x6 + a0 - y6\n"
   ]
  },
  {
   "cell_type": "code",
   "execution_count": 14,
   "id": "b79b46f3",
   "metadata": {},
   "outputs": [
    {
     "data": {
      "text/latex": [
       "$\\displaystyle \\left\\{\\left( 3, \\  0, \\  19, \\  0, \\  -5, \\  0\\right)\\right\\}$"
      ],
      "text/plain": [
       "{(3, 0, 19, 0, -5, 0)}"
      ]
     },
     "execution_count": 14,
     "metadata": {},
     "output_type": "execute_result"
    }
   ],
   "source": [
    "nonlinsolve([first, second, third, fourth, fifth, sixth],\n",
    "            [a5, a4, a3, a2, a1, a0])"
   ]
  },
  {
   "cell_type": "code",
   "execution_count": 25,
   "id": "659b6780",
   "metadata": {},
   "outputs": [
    {
     "data": {
      "text/latex": [
       "$\\displaystyle -4352833$"
      ],
      "text/plain": [
       "-4352833"
      ]
     },
     "execution_count": 25,
     "metadata": {},
     "output_type": "execute_result"
    }
   ],
   "source": [
    "x = Symbol('x')\n",
    "f = 3*x**5+19*x**3-5*x\n",
    "f.subs(x, 17)\n",
    "f.subs(x, -17)"
   ]
  },
  {
   "cell_type": "code",
   "execution_count": 29,
   "id": "f14dfb80",
   "metadata": {},
   "outputs": [
    {
     "data": {
      "text/plain": [
       "[-sqrt(-19/6 + sqrt(421)/6), sqrt(-19/6 + sqrt(421)/6)]"
      ]
     },
     "execution_count": 29,
     "metadata": {},
     "output_type": "execute_result"
    }
   ],
   "source": [
    "solve(f)[3:]"
   ]
  },
  {
   "cell_type": "code",
   "execution_count": 31,
   "id": "e2843675",
   "metadata": {},
   "outputs": [
    {
     "data": {
      "text/latex": [
       "$\\displaystyle \\left(x < 0 \\wedge - \\sqrt{- \\frac{19}{6} + \\frac{\\sqrt{421}}{6}} < x\\right) \\vee \\left(x < \\infty \\wedge \\sqrt{- \\frac{19}{6} + \\frac{\\sqrt{421}}{6}} < x\\right)$"
      ],
      "text/plain": [
       "((x < oo) & (sqrt(-19/6 + sqrt(421)/6) < x)) | ((x < 0) & (-sqrt(-19/6 + sqrt(421)/6) < x))"
      ]
     },
     "execution_count": 31,
     "metadata": {},
     "output_type": "execute_result"
    }
   ],
   "source": [
    "solve_univariate_inequality(f>0, x)"
   ]
  },
  {
   "cell_type": "code",
   "execution_count": 32,
   "id": "ed9b3b53",
   "metadata": {},
   "outputs": [
    {
     "data": {
      "text/latex": [
       "$\\displaystyle \\left(-\\infty < x \\wedge x < - \\sqrt{- \\frac{19}{6} + \\frac{\\sqrt{421}}{6}}\\right) \\vee \\left(0 < x \\wedge x < \\sqrt{- \\frac{19}{6} + \\frac{\\sqrt{421}}{6}}\\right)$"
      ],
      "text/plain": [
       "((0 < x) & (x < sqrt(-19/6 + sqrt(421)/6))) | ((-oo < x) & (x < -sqrt(-19/6 + sqrt(421)/6)))"
      ]
     },
     "execution_count": 32,
     "metadata": {},
     "output_type": "execute_result"
    }
   ],
   "source": [
    "solve_univariate_inequality(f<0, x)"
   ]
  },
  {
   "cell_type": "code",
   "execution_count": 33,
   "id": "c826ec6b",
   "metadata": {},
   "outputs": [
    {
     "data": {
      "image/png": "[encoded data removed]",
      "text/plain": [
       "<Figure size 640x480 with 1 Axes>"
      ]
     },
     "metadata": {},
     "output_type": "display_data"
    },
    {
     "data": {
      "text/plain": [
       "<sympy.plotting.plot.Plot at 0x7f9c49e44250>"
      ]
     },
     "execution_count": 33,
     "metadata": {},
     "output_type": "execute_result"
    }
   ],
   "source": [
    "plot(f)"
   ]
  },
  {
   "cell_type": "code",
   "execution_count": 34,
   "id": "ebefd79d",
   "metadata": {},
   "outputs": [],
   "source": [
    "a0, a1, a2, a3, a4, a5 = symbols('a0, a1, a2, a3, a4, a5')\n",
    "x1, y1 = -4, -16729\n",
    "x2, y2 = -3, -3999\n",
    "x3, y3 = -1, 5\n",
    "x4, y4 = 1, 1\n",
    "x5, y5 = 3, 4005\n",
    "x6, y6 = 4, 16735"
   ]
  },
  {
   "cell_type": "code",
   "execution_count": 35,
   "id": "53be2a89",
   "metadata": {},
   "outputs": [],
   "source": [
    "first = a5*x1**5+a4*x1**4+a3*x1**3+a2*x1**2+a1*x1 + a0 - y1\n",
    "second = a5*x2**5+a4*x2**4+a3*x2**3+a2*x2**2+a1*x2 + a0 - y2\n",
    "third = a5*x3**5+a4*x3*4+a3*x3**3+a2*x3**2+a1*x3 + a0 - y3\n",
    "fourth = a5*x4**5+a4*x4**4+a3*x4**3+a2*x4**2+a1*x4 + a0 - y4\n",
    "fifth = a5*x5**5+a4*x5**4+a3*x5**3+a2*x5**2+a1*x5 + a0 - y5\n",
    "sixth = a5*x6**5+a4*x6**4+a3*x6**3+a2*x6**2+a1*x6 + a0 - y6\n"
   ]
  },
  {
   "cell_type": "code",
   "execution_count": 36,
   "id": "15da51d1",
   "metadata": {},
   "outputs": [
    {
     "data": {
      "text/latex": [
       "$\\displaystyle \\left\\{\\left( 16, \\  0, \\  7, \\  0, \\  -25, \\  3\\right)\\right\\}$"
      ],
      "text/plain": [
       "{(16, 0, 7, 0, -25, 3)}"
      ]
     },
     "execution_count": 36,
     "metadata": {},
     "output_type": "execute_result"
    }
   ],
   "source": [
    "nonlinsolve([first, second, third, fourth, fifth, sixth],\n",
    "            [a5, a4, a3, a2, a1, a0])"
   ]
  },
  {
   "cell_type": "code",
   "execution_count": 45,
   "id": "21ab9079",
   "metadata": {},
   "outputs": [
    {
     "data": {
      "text/latex": [
       "$\\displaystyle 16 x^{5} + 7 x^{3} - 25 x + 3$"
      ],
      "text/plain": [
       "16*x**5 + 7*x**3 - 25*x + 3"
      ]
     },
     "execution_count": 45,
     "metadata": {},
     "output_type": "execute_result"
    }
   ],
   "source": [
    "x = Symbol('x')\n",
    "f = 16*x**5+7*x**3-25*x + 3\n",
    "\n",
    "f"
   ]
  },
  {
   "cell_type": "code",
   "execution_count": 46,
   "id": "7d7dcce3",
   "metadata": {},
   "outputs": [
    {
     "data": {
      "text/latex": [
       "$\\displaystyle 22751681$"
      ],
      "text/plain": [
       "22751681"
      ]
     },
     "execution_count": 46,
     "metadata": {},
     "output_type": "execute_result"
    }
   ],
   "source": [
    "f.subs(x, 17)"
   ]
  },
  {
   "cell_type": "code",
   "execution_count": 40,
   "id": "f7eb760a",
   "metadata": {},
   "outputs": [
    {
     "data": {
      "text/latex": [
       "$\\displaystyle -22751675$"
      ],
      "text/plain": [
       "-22751675"
      ]
     },
     "execution_count": 40,
     "metadata": {},
     "output_type": "execute_result"
    }
   ],
   "source": [
    "f.subs(x, -17) # нечетные "
   ]
  },
  {
   "cell_type": "code",
   "execution_count": 41,
   "id": "d867ee5a",
   "metadata": {},
   "outputs": [
    {
     "data": {
      "text/latex": [
       "$\\displaystyle \\left(x < \\infty \\wedge \\operatorname{CRootOf} {\\left(16 x^{5} + 7 x^{3} - 25 x + 3, 2\\right)} < x\\right) \\vee \\left(x < \\operatorname{CRootOf} {\\left(16 x^{5} + 7 x^{3} - 25 x + 3, 1\\right)} \\wedge \\operatorname{CRootOf} {\\left(16 x^{5} + 7 x^{3} - 25 x + 3, 0\\right)} < x\\right)$"
      ],
      "text/plain": [
       "((x < oo) & (CRootOf(16*x**5 + 7*x**3 - 25*x + 3, 2) < x)) | ((x < CRootOf(16*x**5 + 7*x**3 - 25*x + 3, 1)) & (CRootOf(16*x**5 + 7*x**3 - 25*x + 3, 0) < x))"
      ]
     },
     "execution_count": 41,
     "metadata": {},
     "output_type": "execute_result"
    }
   ],
   "source": [
    "solve_univariate_inequality(f>0, x)"
   ]
  },
  {
   "cell_type": "code",
   "execution_count": 42,
   "id": "4ddc27f7",
   "metadata": {},
   "outputs": [
    {
     "data": {
      "text/latex": [
       "$\\displaystyle \\left(-\\infty < x \\wedge x < \\operatorname{CRootOf} {\\left(16 x^{5} + 7 x^{3} - 25 x + 3, 0\\right)}\\right) \\vee \\left(x < \\operatorname{CRootOf} {\\left(16 x^{5} + 7 x^{3} - 25 x + 3, 2\\right)} \\wedge \\operatorname{CRootOf} {\\left(16 x^{5} + 7 x^{3} - 25 x + 3, 1\\right)} < x\\right)$"
      ],
      "text/plain": [
       "((-oo < x) & (x < CRootOf(16*x**5 + 7*x**3 - 25*x + 3, 0))) | ((x < CRootOf(16*x**5 + 7*x**3 - 25*x + 3, 2)) & (CRootOf(16*x**5 + 7*x**3 - 25*x + 3, 1) < x))"
      ]
     },
     "execution_count": 42,
     "metadata": {},
     "output_type": "execute_result"
    }
   ],
   "source": [
    "solve_univariate_inequality(f<0, x)"
   ]
  },
  {
   "cell_type": "code",
   "execution_count": 44,
   "id": "baee854c",
   "metadata": {},
   "outputs": [
    {
     "data": {
      "image/png": "[encoded data removed]",
      "text/plain": [
       "<Figure size 640x480 with 1 Axes>"
      ]
     },
     "metadata": {},
     "output_type": "display_data"
    },
    {
     "data": {
      "text/plain": [
       "<sympy.plotting.plot.Plot at 0x7f9c49d83520>"
      ]
     },
     "execution_count": 44,
     "metadata": {},
     "output_type": "execute_result"
    }
   ],
   "source": [
    "plot(f)"
   ]
  },
  {
   "cell_type": "code",
   "execution_count": 48,
   "id": "c6b2a4dc",
   "metadata": {},
   "outputs": [],
   "source": [
    "x = Symbol('x')"
   ]
  },
  {
   "cell_type": "code",
   "execution_count": 49,
   "id": "8c8e141e",
   "metadata": {},
   "outputs": [],
   "source": [
    "def print_points_ands_function1(sympy_function):\n",
    "    def function(x_): return float(sympy_function.subs(x, x_))\n",
    "    \n",
    "    points_X = np.array([-2, -1, 0, 1, 2, 3, 3.5, 4, 4.5, 5])\n",
    "    points_Y = np.array([2, -4, 1, 8, 21, 40, 47, 65, 75, 92])\n",
    "    plt.xlim(-6, 10)\n",
    "    plt.ylim(-1, 100)\n",
    "    \n",
    "    plt.scatter(points_X, points_Y, c='r')\n",
    "    x_range = np.linspace(plt.xlim()[0], plt.xlim()[1], num=100)\n",
    "    function_Y = [function(x_) for x_ in x_range]\n",
    "    plt.plot(x_range, function_Y, 'b')\n",
    "    plt.show()\n",
    "    \n",
    "    MSE = sum([(points_Y[i] - function(points_X[i]))**2 for i in range(len(points_Y))]) / len(points_Y)\n",
    "    print(f'MSE = {MSE}')"
   ]
  },
  {
   "cell_type": "code",
   "execution_count": 76,
   "id": "10993eb7",
   "metadata": {},
   "outputs": [
    {
     "data": {
      "image/png": "[encoded data removed]",
      "text/plain": [
       "<Figure size 640x480 with 1 Axes>"
      ]
     },
     "metadata": {},
     "output_type": "display_data"
    },
    {
     "name": "stdout",
     "output_type": "stream",
     "text": [
      "MSE = 50754.35\n"
     ]
    }
   ],
   "source": [
    "f1 = 30 * x**2 - 138 * x + 175\n",
    "print_points_ands_function1(f1)"
   ]
  },
  {
   "cell_type": "code",
   "execution_count": null,
   "id": "9bfd67f1",
   "metadata": {},
   "outputs": [],
   "source": []
  }
 ],
 "metadata": {
  "kernelspec": {
   "display_name": "Python 3 (ipykernel)",
   "language": "python",
   "name": "python3"
  },
  "language_info": {
   "codemirror_mode": {
    "name": "ipython",
    "version": 3
   },
   "file_extension": ".py",
   "mimetype": "text/x-python",
   "name": "python",
   "nbconvert_exporter": "python",
   "pygments_lexer": "ipython3",
   "version": "3.10.6"
  }
 },
 "nbformat": 4,
 "nbformat_minor": 5
}
